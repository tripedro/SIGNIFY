{
 "cells": [
  {
   "cell_type": "code",
   "execution_count": 48,
   "metadata": {},
   "outputs": [
    {
     "name": "stdout",
     "output_type": "stream",
     "text": [
      "c:\\Users\\trist\\local_work\\SIGNIFY\\notebooks\n",
      "[{'x': '0.64', 'y': '1.87'}, {'x': '-0.18', 'y': '1.59'}, {'x': '-1.05', 'y': '0.74'}, {'x': '-1.79', 'y': '0.25'}, {'x': '-2.64', 'y': '0.18'}, {'x': '-0.51', 'y': '-0.35'}, {'x': '-0.66', 'y': '-1.28'}, {'x': '-0.72', 'y': '-1.91'}, {'x': '-0.75', 'y': '-2.52'}, {'x': '0.14', 'y': '-0.30'}, {'x': '0.04', 'y': '-0.67'}, {'x': '0.04', 'y': '0.26'}, {'x': '0.10', 'y': '0.65'}, {'x': '0.76', 'y': '-0.14'}, {'x': '0.67', 'y': '-0.41'}, {'x': '0.55', 'y': '0.45'}, {'x': '0.57', 'y': '0.74'}, {'x': '1.40', 'y': '0.11'}, {'x': '1.26', 'y': '-0.23'}, {'x': '1.07', 'y': '0.37'}, {'x': '1.06', 'y': '0.62'}]\n",
      "[{'x': '1.03', 'y': '2.28'}, {'x': '0.11', 'y': '2.14'}, {'x': '-0.94', 'y': '1.21'}, {'x': '-1.84', 'y': '0.58'}, {'x': '-2.79', 'y': '0.55'}, {'x': '-0.60', 'y': '-0.24'}, {'x': '-0.85', 'y': '-1.36'}, {'x': '-0.49', 'y': '-0.12'}, {'x': '-0.40', 'y': '0.26'}, {'x': '-0.00', 'y': '-0.48'}, {'x': '-0.20', 'y': '-1.42'}, {'x': '0.14', 'y': '0.21'}, {'x': '0.09', 'y': '0.22'}, {'x': '0.61', 'y': '-0.62'}, {'x': '0.48', 'y': '-1.45'}, {'x': '0.63', 'y': '0.12'}, {'x': '0.58', 'y': '0.25'}, {'x': '1.26', 'y': '-0.66'}, {'x': '1.09', 'y': '-1.30'}, {'x': '1.06', 'y': '-0.22'}, {'x': '1.05', 'y': '0.04'}]\n"
     ]
    }
   ],
   "source": [
    "import json\n",
    "import os\n",
    "import numpy as np\n",
    "\n",
    "print(os.getcwd())\n",
    "\n",
    "# Path to your JSON files\n",
    "file_path_curr = '../templates/static-right/dev/L-curr.json'\n",
    "#file_path_template = '../templates/static-right/L.json'\n",
    "#file_path_template = '../templates/static-right/a.json'\n",
    "file_path_template = '../templates/static-right/dev/L-no-index.json'\n",
    "\n",
    "# Load data from L-curr.json\n",
    "with open(file_path_curr, 'r') as file:\n",
    "    data_curr = json.load(file)\n",
    "\n",
    "# Load data from L.json\n",
    "with open(file_path_template, 'r') as file:\n",
    "    data_template = json.load(file)\n",
    "\n",
    "print(data_curr)\n",
    "print(data_template)\n"
   ]
  },
  {
   "cell_type": "code",
   "execution_count": 49,
   "metadata": {},
   "outputs": [],
   "source": [
    "def convert_to_array(data):\n",
    "    return np.array([[float(coord['x']), float(coord['y'])] for coord in data])\n",
    "\n",
    "coords_curr = convert_to_array(data_curr)\n",
    "coords_prev = convert_to_array(data_template)\n"
   ]
  },
  {
   "cell_type": "code",
   "execution_count": 50,
   "metadata": {},
   "outputs": [
    {
     "name": "stdout",
     "output_type": "stream",
     "text": [
      "[0.56586217 0.62177166 0.48270074 0.33376639 0.3992493  0.1421267\n",
      " 0.20615528 1.80471604 2.80194575 0.22803509 0.78746428 0.1118034\n",
      " 0.43011626 0.50289164 1.05721332 0.33955854 0.49010203 0.78262379\n",
      " 1.08342051 0.59008474 0.5800862 ]\n"
     ]
    }
   ],
   "source": [
    "distances = np.linalg.norm(coords_curr - coords_prev, axis=1)\n",
    "print(distances)"
   ]
  },
  {
   "cell_type": "code",
   "execution_count": 51,
   "metadata": {},
   "outputs": [
    {
     "name": "stdout",
     "output_type": "stream",
     "text": [
      "[ True  True  True  True  True  True  True False False  True  True  True\n",
      "  True  True False  True  True  True False  True  True]\n",
      "Palm: [ True]\n",
      "Thumb: [ True  True  True  True]\n",
      "Index: [ True  True False False]\n",
      "Middle: [ True  True  True  True]\n",
      "Ring: [ True False  True  True]\n",
      "Pinky: [ True False  True  True]\n"
     ]
    }
   ],
   "source": [
    "threshold = 1  # Set this based on your specific accuracy needs\n",
    "valid_points = distances < threshold\n",
    "print(valid_points)  # This will print a boolean array where True represents a valid point\n",
    "\n",
    "# Define the finger groups as ranges in the landmarks array\n",
    "finger_groups = {\n",
    "    \"Palm\": slice(0, 1),  # Wrist area, technically not palm but for simplicity in this context\n",
    "    \"Thumb\": slice(1, 5),\n",
    "    \"Index\": slice(5, 9),\n",
    "    \"Middle\": slice(9, 13),\n",
    "    \"Ring\": slice(13, 17),\n",
    "    \"Pinky\": slice(17, 21)\n",
    "}\n",
    "\n",
    "# Creating a dictionary to hold the valid points by group\n",
    "valid_points_by_finger = {finger: valid_points[indices] for finger, indices in finger_groups.items()}\n",
    "\n",
    "# Printing the results\n",
    "for finger, points in valid_points_by_finger.items():\n",
    "    print(f\"{finger}: {points}\")"
   ]
  }
 ],
 "metadata": {
  "kernelspec": {
   "display_name": "Python 3",
   "language": "python",
   "name": "python3"
  },
  "language_info": {
   "codemirror_mode": {
    "name": "ipython",
    "version": 3
   },
   "file_extension": ".py",
   "mimetype": "text/x-python",
   "name": "python",
   "nbconvert_exporter": "python",
   "pygments_lexer": "ipython3",
   "version": "3.11.5"
  }
 },
 "nbformat": 4,
 "nbformat_minor": 2
}
