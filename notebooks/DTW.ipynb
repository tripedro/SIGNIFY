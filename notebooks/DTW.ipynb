{
  "nbformat": 4,
  "nbformat_minor": 0,
  "metadata": {
    "colab": {
      "provenance": []
    },
    "kernelspec": {
      "name": "python3",
      "display_name": "Python 3"
    },
    "language_info": {
      "name": "python"
    }
  },
  "cells": [
    {
      "cell_type": "code",
      "source": [
        "import numpy as np\n",
        "import matplotlib.pyplot as plt"
      ],
      "metadata": {
        "id": "x81iX0EyLVP9"
      },
      "execution_count": 1,
      "outputs": []
    },
    {
      "cell_type": "markdown",
      "source": [
        "## Demo Data"
      ],
      "metadata": {
        "id": "esLdFaFLL1pb"
      }
    },
    {
      "cell_type": "code",
      "source": [
        "seq1a = np.array([[0.30, 0.40, 0.50, 0.60, 0.50, 0.40, 0.30, 0.40, 0.50, 0.60],\n",
        "                    [0.80, 0.90, 0.90, 0.80, 0.60, 0.50, 0.40, 0.40, 0.40, 0.40]])\n",
        "\n",
        "seq2a = np.array([[0.29, 0.36, 0.46, 0.58, 0.53, 0.46, 0.36, 0.29, 0.43, 0.54, 0.59, 0.6077],\n",
        "                    [0.80, 0.89, 0.89, 0.81, 0.66, 0.57, 0.47, 0.40, 0.40, 0.40, 0.42, 0.4299]])\n",
        "\n",
        "target_seq, input_seq = seq1a, seq2a\n",
        "target_seq.shape, input_seq.shape"
      ],
      "metadata": {
        "id": "sprYoHHDyPwX",
        "colab": {
          "base_uri": "https://localhost:8080/"
        },
        "outputId": "e36d41df-8f91-425f-affb-aac99e800ad7"
      },
      "execution_count": 2,
      "outputs": [
        {
          "output_type": "execute_result",
          "data": {
            "text/plain": [
              "((2, 10), (2, 12))"
            ]
          },
          "metadata": {},
          "execution_count": 2
        }
      ]
    },
    {
      "cell_type": "code",
      "source": [
        "target_seq # Input in col wise (each col time 1, time 2, ... , time n ) However, input should be passed [x1, x2,..., xn]"
      ],
      "metadata": {
        "colab": {
          "base_uri": "https://localhost:8080/"
        },
        "id": "5FPnBghyGAqt",
        "outputId": "4e8d4950-c9e6-462a-c649-8b39a3903482"
      },
      "execution_count": 3,
      "outputs": [
        {
          "output_type": "execute_result",
          "data": {
            "text/plain": [
              "array([[0.3, 0.4, 0.5, 0.6, 0.5, 0.4, 0.3, 0.4, 0.5, 0.6],\n",
              "       [0.8, 0.9, 0.9, 0.8, 0.6, 0.5, 0.4, 0.4, 0.4, 0.4]])"
            ]
          },
          "metadata": {},
          "execution_count": 3
        }
      ]
    },
    {
      "cell_type": "markdown",
      "source": [
        "## DTW Class"
      ],
      "metadata": {
        "id": "k2_Qss78L35Y"
      }
    },
    {
      "cell_type": "code",
      "source": [
        "class DTW_stream_2d: # Add buffer\n",
        "  def __init__(self, target_seq) -> None:\n",
        "     self._target_seq = target_seq\n",
        "     self._S = self._init_S()\n",
        "     self._j = 1\n",
        "\n",
        "  def _init_S(self):\n",
        "    S = np.zeros((len(self._target_seq[0])+1, 2))\n",
        "    S[1:, 0] = np.inf\n",
        "    S[0, 1:] = np.inf\n",
        "    return S\n",
        "\n",
        "  def _step(self,input):\n",
        "    for i in range(1, self._S.shape[0]):\n",
        "      cost = np.linalg.norm(self._target_seq[:, i-1] - input)\n",
        "      self._S[i,self._j] = cost + np.min([self._S[i-1, self._j],   # increment\n",
        "                            self._S[i, self._j-1],   # decrement\n",
        "                            self._S[i-1, self._j-1]]) # match\n",
        "\n",
        "    curr_score = self._S[i,j] # Curr score\n",
        "\n",
        "    new_col = np.zeros((len(self._target_seq[0])+1, 1))\n",
        "    new_col[0,0] = np.inf\n",
        "    self._S = np.concatenate((self._S, new_col), axis=1)\n",
        "    self._j += 1\n",
        "\n",
        "    return curr_score\n",
        "\n",
        "  def eval(self, input):\n",
        "    return float(self._step(input))"
      ],
      "metadata": {
        "id": "sio1Z7oH9rMA"
      },
      "execution_count": 4,
      "outputs": []
    },
    {
      "cell_type": "code",
      "source": [
        "dtw_stream = DTW_stream_2d(target_seq)\n",
        "\n",
        "scores = []\n",
        "for j in range(input_seq.shape[1]): # Stream sim\n",
        "  input = input_seq[:,j]\n",
        "  print(f\"Input: {input_seq[:,j]}\")\n",
        "  curr_score = dtw_stream.eval(input)\n",
        "  scores.append(curr_score)\n",
        "  print(f\"Curr_Score: {curr_score:.2f}\")"
      ],
      "metadata": {
        "colab": {
          "base_uri": "https://localhost:8080/"
        },
        "id": "o-doRO3iDQEF",
        "outputId": "b7396c7b-503a-4fe7-9d65-cb4be1aa225d"
      },
      "execution_count": 5,
      "outputs": [
        {
          "output_type": "stream",
          "name": "stdout",
          "text": [
            "Input: [0.29 0.8 ]\n",
            "Curr_Score: inf\n",
            "Input: [0.36 0.89]\n",
            "Curr_Score: 3.08\n",
            "Input: [0.46 0.89]\n",
            "Curr_Score: 3.12\n",
            "Input: [0.58 0.81]\n",
            "Curr_Score: 2.96\n",
            "Input: [0.53 0.66]\n",
            "Curr_Score: 2.47\n",
            "Input: [0.46 0.57]\n",
            "Curr_Score: 1.56\n",
            "Input: [0.36 0.47]\n",
            "Curr_Score: 1.08\n",
            "Input: [0.29 0.4 ]\n",
            "Curr_Score: 0.85\n",
            "Input: [0.43 0.4 ]\n",
            "Curr_Score: 0.91\n",
            "Input: [0.54 0.4 ]\n",
            "Curr_Score: 0.56\n",
            "Input: [0.59 0.42]\n",
            "Curr_Score: 0.42\n",
            "Input: [0.6077 0.4299]\n",
            "Curr_Score: 0.38\n"
          ]
        }
      ]
    },
    {
      "cell_type": "code",
      "source": [
        "plt.plot(scores)\n",
        "plt.ylabel(\"Current Score\")\n",
        "plt.xlabel(\"Time\")\n",
        "plt.show()"
      ],
      "metadata": {
        "id": "Ax4EqZIo9gpi",
        "colab": {
          "base_uri": "https://localhost:8080/",
          "height": 449
        },
        "outputId": "edc5eaff-c478-4323-b12b-c80348ff4974"
      },
      "execution_count": 6,
      "outputs": [
        {
          "output_type": "display_data",
          "data": {
            "text/plain": [
              "<Figure size 640x480 with 1 Axes>"
            ],
            "image/png": "[encoded data removed]"
          },
          "metadata": {}
        }
      ]
    },
    {
      "cell_type": "markdown",
      "source": [
        "Testing"
      ],
      "metadata": {
        "id": "G-42EAdMOyvq"
      }
    },
    {
      "cell_type": "code",
      "source": [
        "n1 = np.random.rand(2,5) # Noise Between seqs\n",
        "n1"
      ],
      "metadata": {
        "id": "ZRwHoNSmFjp9",
        "colab": {
          "base_uri": "https://localhost:8080/"
        },
        "outputId": "a21bf56c-9a6b-4c1b-dc35-89c52b803935"
      },
      "execution_count": 7,
      "outputs": [
        {
          "output_type": "execute_result",
          "data": {
            "text/plain": [
              "array([[0.87386138, 0.16887115, 0.03240403, 0.30813219, 0.10380924],\n",
              "       [0.30539796, 0.30884684, 0.20033082, 0.40191139, 0.31198772]])"
            ]
          },
          "metadata": {},
          "execution_count": 7
        }
      ]
    },
    {
      "cell_type": "code",
      "source": [
        "input_seq_w_noise = np.concatenate((n1,input_seq), axis=1)\n",
        "input_seq_w_noise.shape"
      ],
      "metadata": {
        "colab": {
          "base_uri": "https://localhost:8080/"
        },
        "id": "UcNa_1IlM9lP",
        "outputId": "0e8ed5dc-0acb-416f-f880-aada425e730e"
      },
      "execution_count": 8,
      "outputs": [
        {
          "output_type": "execute_result",
          "data": {
            "text/plain": [
              "(2, 17)"
            ]
          },
          "metadata": {},
          "execution_count": 8
        }
      ]
    },
    {
      "cell_type": "code",
      "source": [
        "dtw_stream = DTW_stream_2d(target_seq)\n",
        "\n",
        "scores = []\n",
        "for j in range(input_seq_w_noise.shape[1]): # Stream sim\n",
        "  input = input_seq_w_noise[:,j]\n",
        "  #print(f\"Input: {input_seq[:,j]}\")\n",
        "  curr_score = dtw_stream.eval(input)\n",
        "  scores.append(curr_score)\n",
        "  #print(f\"Curr_Score: {curr_score:.2f}\")"
      ],
      "metadata": {
        "id": "85W8uoA0NbOb"
      },
      "execution_count": 9,
      "outputs": []
    },
    {
      "cell_type": "code",
      "source": [
        "plt.plot(scores)\n",
        "plt.ylabel(\"Current Score\")\n",
        "plt.xlabel(\"Time\")\n",
        "plt.show()"
      ],
      "metadata": {
        "colab": {
          "base_uri": "https://localhost:8080/",
          "height": 449
        },
        "id": "X83asqueNiVh",
        "outputId": "4cf35c13-9734-43c9-82ae-8afae6d4bf81"
      },
      "execution_count": 10,
      "outputs": [
        {
          "output_type": "display_data",
          "data": {
            "text/plain": [
              "<Figure size 640x480 with 1 Axes>"
            ],
            "image/png": "[encoded data removed]"
          },
          "metadata": {}
        }
      ]
    },
    {
      "cell_type": "code",
      "source": [],
      "metadata": {
        "id": "DjNxtoQ8NoW4"
      },
      "execution_count": 10,
      "outputs": []
    }
  ]
}